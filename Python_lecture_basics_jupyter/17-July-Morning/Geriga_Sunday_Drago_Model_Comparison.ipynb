{
 "cells": [
  {
   "cell_type": "code",
   "execution_count": 1,
   "id": "1b2ef377",
   "metadata": {},
   "outputs": [],
   "source": [
    "# Decision Tree Model\n",
    "# Import libraries\n",
    "import numpy as np # For linear algebra\n",
    "import pandas as pd # For data preparation and processing or data manipulation\n",
    "import seaborn as sb # For statistical data visualization\n",
    "import matplotlib.pyplot as plt # For plotting data visualization\n"
   ]
  },
  {
   "cell_type": "code",
   "execution_count": 2,
   "id": "053b98df",
   "metadata": {},
   "outputs": [
    {
     "data": {
      "text/html": [
       "<div>\n",
       "<style scoped>\n",
       "    .dataframe tbody tr th:only-of-type {\n",
       "        vertical-align: middle;\n",
       "    }\n",
       "\n",
       "    .dataframe tbody tr th {\n",
       "        vertical-align: top;\n",
       "    }\n",
       "\n",
       "    .dataframe thead th {\n",
       "        text-align: right;\n",
       "    }\n",
       "</style>\n",
       "<table border=\"1\" class=\"dataframe\">\n",
       "  <thead>\n",
       "    <tr style=\"text-align: right;\">\n",
       "      <th></th>\n",
       "      <th>age</th>\n",
       "      <th>sex</th>\n",
       "      <th>cp</th>\n",
       "      <th>trestbps</th>\n",
       "      <th>chol</th>\n",
       "      <th>fbs</th>\n",
       "      <th>restecg</th>\n",
       "      <th>thalach</th>\n",
       "      <th>exang</th>\n",
       "      <th>oldpeak</th>\n",
       "      <th>slope</th>\n",
       "      <th>ca</th>\n",
       "      <th>thal</th>\n",
       "      <th>target</th>\n",
       "    </tr>\n",
       "  </thead>\n",
       "  <tbody>\n",
       "    <tr>\n",
       "      <th>0</th>\n",
       "      <td>52</td>\n",
       "      <td>1</td>\n",
       "      <td>0</td>\n",
       "      <td>125</td>\n",
       "      <td>212</td>\n",
       "      <td>0</td>\n",
       "      <td>1</td>\n",
       "      <td>168</td>\n",
       "      <td>0</td>\n",
       "      <td>1.0</td>\n",
       "      <td>2</td>\n",
       "      <td>2</td>\n",
       "      <td>3</td>\n",
       "      <td>0</td>\n",
       "    </tr>\n",
       "    <tr>\n",
       "      <th>1</th>\n",
       "      <td>53</td>\n",
       "      <td>1</td>\n",
       "      <td>0</td>\n",
       "      <td>140</td>\n",
       "      <td>203</td>\n",
       "      <td>1</td>\n",
       "      <td>0</td>\n",
       "      <td>155</td>\n",
       "      <td>1</td>\n",
       "      <td>3.1</td>\n",
       "      <td>0</td>\n",
       "      <td>0</td>\n",
       "      <td>3</td>\n",
       "      <td>0</td>\n",
       "    </tr>\n",
       "    <tr>\n",
       "      <th>2</th>\n",
       "      <td>70</td>\n",
       "      <td>1</td>\n",
       "      <td>0</td>\n",
       "      <td>145</td>\n",
       "      <td>174</td>\n",
       "      <td>0</td>\n",
       "      <td>1</td>\n",
       "      <td>125</td>\n",
       "      <td>1</td>\n",
       "      <td>2.6</td>\n",
       "      <td>0</td>\n",
       "      <td>0</td>\n",
       "      <td>3</td>\n",
       "      <td>0</td>\n",
       "    </tr>\n",
       "    <tr>\n",
       "      <th>3</th>\n",
       "      <td>61</td>\n",
       "      <td>1</td>\n",
       "      <td>0</td>\n",
       "      <td>148</td>\n",
       "      <td>203</td>\n",
       "      <td>0</td>\n",
       "      <td>1</td>\n",
       "      <td>161</td>\n",
       "      <td>0</td>\n",
       "      <td>0.0</td>\n",
       "      <td>2</td>\n",
       "      <td>1</td>\n",
       "      <td>3</td>\n",
       "      <td>0</td>\n",
       "    </tr>\n",
       "    <tr>\n",
       "      <th>4</th>\n",
       "      <td>62</td>\n",
       "      <td>0</td>\n",
       "      <td>0</td>\n",
       "      <td>138</td>\n",
       "      <td>294</td>\n",
       "      <td>1</td>\n",
       "      <td>1</td>\n",
       "      <td>106</td>\n",
       "      <td>0</td>\n",
       "      <td>1.9</td>\n",
       "      <td>1</td>\n",
       "      <td>3</td>\n",
       "      <td>2</td>\n",
       "      <td>0</td>\n",
       "    </tr>\n",
       "    <tr>\n",
       "      <th>5</th>\n",
       "      <td>58</td>\n",
       "      <td>0</td>\n",
       "      <td>0</td>\n",
       "      <td>100</td>\n",
       "      <td>248</td>\n",
       "      <td>0</td>\n",
       "      <td>0</td>\n",
       "      <td>122</td>\n",
       "      <td>0</td>\n",
       "      <td>1.0</td>\n",
       "      <td>1</td>\n",
       "      <td>0</td>\n",
       "      <td>2</td>\n",
       "      <td>1</td>\n",
       "    </tr>\n",
       "    <tr>\n",
       "      <th>6</th>\n",
       "      <td>58</td>\n",
       "      <td>1</td>\n",
       "      <td>0</td>\n",
       "      <td>114</td>\n",
       "      <td>318</td>\n",
       "      <td>0</td>\n",
       "      <td>2</td>\n",
       "      <td>140</td>\n",
       "      <td>0</td>\n",
       "      <td>4.4</td>\n",
       "      <td>0</td>\n",
       "      <td>3</td>\n",
       "      <td>1</td>\n",
       "      <td>0</td>\n",
       "    </tr>\n",
       "    <tr>\n",
       "      <th>7</th>\n",
       "      <td>55</td>\n",
       "      <td>1</td>\n",
       "      <td>0</td>\n",
       "      <td>160</td>\n",
       "      <td>289</td>\n",
       "      <td>0</td>\n",
       "      <td>0</td>\n",
       "      <td>145</td>\n",
       "      <td>1</td>\n",
       "      <td>0.8</td>\n",
       "      <td>1</td>\n",
       "      <td>1</td>\n",
       "      <td>3</td>\n",
       "      <td>0</td>\n",
       "    </tr>\n",
       "    <tr>\n",
       "      <th>8</th>\n",
       "      <td>46</td>\n",
       "      <td>1</td>\n",
       "      <td>0</td>\n",
       "      <td>120</td>\n",
       "      <td>249</td>\n",
       "      <td>0</td>\n",
       "      <td>0</td>\n",
       "      <td>144</td>\n",
       "      <td>0</td>\n",
       "      <td>0.8</td>\n",
       "      <td>2</td>\n",
       "      <td>0</td>\n",
       "      <td>3</td>\n",
       "      <td>0</td>\n",
       "    </tr>\n",
       "    <tr>\n",
       "      <th>9</th>\n",
       "      <td>54</td>\n",
       "      <td>1</td>\n",
       "      <td>0</td>\n",
       "      <td>122</td>\n",
       "      <td>286</td>\n",
       "      <td>0</td>\n",
       "      <td>0</td>\n",
       "      <td>116</td>\n",
       "      <td>1</td>\n",
       "      <td>3.2</td>\n",
       "      <td>1</td>\n",
       "      <td>2</td>\n",
       "      <td>2</td>\n",
       "      <td>0</td>\n",
       "    </tr>\n",
       "    <tr>\n",
       "      <th>10</th>\n",
       "      <td>71</td>\n",
       "      <td>0</td>\n",
       "      <td>0</td>\n",
       "      <td>112</td>\n",
       "      <td>149</td>\n",
       "      <td>0</td>\n",
       "      <td>1</td>\n",
       "      <td>125</td>\n",
       "      <td>0</td>\n",
       "      <td>1.6</td>\n",
       "      <td>1</td>\n",
       "      <td>0</td>\n",
       "      <td>2</td>\n",
       "      <td>1</td>\n",
       "    </tr>\n",
       "    <tr>\n",
       "      <th>11</th>\n",
       "      <td>43</td>\n",
       "      <td>0</td>\n",
       "      <td>0</td>\n",
       "      <td>132</td>\n",
       "      <td>341</td>\n",
       "      <td>1</td>\n",
       "      <td>0</td>\n",
       "      <td>136</td>\n",
       "      <td>1</td>\n",
       "      <td>3.0</td>\n",
       "      <td>1</td>\n",
       "      <td>0</td>\n",
       "      <td>3</td>\n",
       "      <td>0</td>\n",
       "    </tr>\n",
       "    <tr>\n",
       "      <th>12</th>\n",
       "      <td>34</td>\n",
       "      <td>0</td>\n",
       "      <td>1</td>\n",
       "      <td>118</td>\n",
       "      <td>210</td>\n",
       "      <td>0</td>\n",
       "      <td>1</td>\n",
       "      <td>192</td>\n",
       "      <td>0</td>\n",
       "      <td>0.7</td>\n",
       "      <td>2</td>\n",
       "      <td>0</td>\n",
       "      <td>2</td>\n",
       "      <td>1</td>\n",
       "    </tr>\n",
       "    <tr>\n",
       "      <th>13</th>\n",
       "      <td>51</td>\n",
       "      <td>1</td>\n",
       "      <td>0</td>\n",
       "      <td>140</td>\n",
       "      <td>298</td>\n",
       "      <td>0</td>\n",
       "      <td>1</td>\n",
       "      <td>122</td>\n",
       "      <td>1</td>\n",
       "      <td>4.2</td>\n",
       "      <td>1</td>\n",
       "      <td>3</td>\n",
       "      <td>3</td>\n",
       "      <td>0</td>\n",
       "    </tr>\n",
       "    <tr>\n",
       "      <th>14</th>\n",
       "      <td>52</td>\n",
       "      <td>1</td>\n",
       "      <td>0</td>\n",
       "      <td>128</td>\n",
       "      <td>204</td>\n",
       "      <td>1</td>\n",
       "      <td>1</td>\n",
       "      <td>156</td>\n",
       "      <td>1</td>\n",
       "      <td>1.0</td>\n",
       "      <td>1</td>\n",
       "      <td>0</td>\n",
       "      <td>0</td>\n",
       "      <td>0</td>\n",
       "    </tr>\n",
       "    <tr>\n",
       "      <th>15</th>\n",
       "      <td>34</td>\n",
       "      <td>0</td>\n",
       "      <td>1</td>\n",
       "      <td>118</td>\n",
       "      <td>210</td>\n",
       "      <td>0</td>\n",
       "      <td>1</td>\n",
       "      <td>192</td>\n",
       "      <td>0</td>\n",
       "      <td>0.7</td>\n",
       "      <td>2</td>\n",
       "      <td>0</td>\n",
       "      <td>2</td>\n",
       "      <td>1</td>\n",
       "    </tr>\n",
       "    <tr>\n",
       "      <th>16</th>\n",
       "      <td>51</td>\n",
       "      <td>0</td>\n",
       "      <td>2</td>\n",
       "      <td>140</td>\n",
       "      <td>308</td>\n",
       "      <td>0</td>\n",
       "      <td>0</td>\n",
       "      <td>142</td>\n",
       "      <td>0</td>\n",
       "      <td>1.5</td>\n",
       "      <td>2</td>\n",
       "      <td>1</td>\n",
       "      <td>2</td>\n",
       "      <td>1</td>\n",
       "    </tr>\n",
       "    <tr>\n",
       "      <th>17</th>\n",
       "      <td>54</td>\n",
       "      <td>1</td>\n",
       "      <td>0</td>\n",
       "      <td>124</td>\n",
       "      <td>266</td>\n",
       "      <td>0</td>\n",
       "      <td>0</td>\n",
       "      <td>109</td>\n",
       "      <td>1</td>\n",
       "      <td>2.2</td>\n",
       "      <td>1</td>\n",
       "      <td>1</td>\n",
       "      <td>3</td>\n",
       "      <td>0</td>\n",
       "    </tr>\n",
       "    <tr>\n",
       "      <th>18</th>\n",
       "      <td>50</td>\n",
       "      <td>0</td>\n",
       "      <td>1</td>\n",
       "      <td>120</td>\n",
       "      <td>244</td>\n",
       "      <td>0</td>\n",
       "      <td>1</td>\n",
       "      <td>162</td>\n",
       "      <td>0</td>\n",
       "      <td>1.1</td>\n",
       "      <td>2</td>\n",
       "      <td>0</td>\n",
       "      <td>2</td>\n",
       "      <td>1</td>\n",
       "    </tr>\n",
       "    <tr>\n",
       "      <th>19</th>\n",
       "      <td>58</td>\n",
       "      <td>1</td>\n",
       "      <td>2</td>\n",
       "      <td>140</td>\n",
       "      <td>211</td>\n",
       "      <td>1</td>\n",
       "      <td>0</td>\n",
       "      <td>165</td>\n",
       "      <td>0</td>\n",
       "      <td>0.0</td>\n",
       "      <td>2</td>\n",
       "      <td>0</td>\n",
       "      <td>2</td>\n",
       "      <td>1</td>\n",
       "    </tr>\n",
       "  </tbody>\n",
       "</table>\n",
       "</div>"
      ],
      "text/plain": [
       "    age  sex  cp  trestbps  chol  fbs  restecg  thalach  exang  oldpeak  \\\n",
       "0    52    1   0       125   212    0        1      168      0      1.0   \n",
       "1    53    1   0       140   203    1        0      155      1      3.1   \n",
       "2    70    1   0       145   174    0        1      125      1      2.6   \n",
       "3    61    1   0       148   203    0        1      161      0      0.0   \n",
       "4    62    0   0       138   294    1        1      106      0      1.9   \n",
       "5    58    0   0       100   248    0        0      122      0      1.0   \n",
       "6    58    1   0       114   318    0        2      140      0      4.4   \n",
       "7    55    1   0       160   289    0        0      145      1      0.8   \n",
       "8    46    1   0       120   249    0        0      144      0      0.8   \n",
       "9    54    1   0       122   286    0        0      116      1      3.2   \n",
       "10   71    0   0       112   149    0        1      125      0      1.6   \n",
       "11   43    0   0       132   341    1        0      136      1      3.0   \n",
       "12   34    0   1       118   210    0        1      192      0      0.7   \n",
       "13   51    1   0       140   298    0        1      122      1      4.2   \n",
       "14   52    1   0       128   204    1        1      156      1      1.0   \n",
       "15   34    0   1       118   210    0        1      192      0      0.7   \n",
       "16   51    0   2       140   308    0        0      142      0      1.5   \n",
       "17   54    1   0       124   266    0        0      109      1      2.2   \n",
       "18   50    0   1       120   244    0        1      162      0      1.1   \n",
       "19   58    1   2       140   211    1        0      165      0      0.0   \n",
       "\n",
       "    slope  ca  thal  target  \n",
       "0       2   2     3       0  \n",
       "1       0   0     3       0  \n",
       "2       0   0     3       0  \n",
       "3       2   1     3       0  \n",
       "4       1   3     2       0  \n",
       "5       1   0     2       1  \n",
       "6       0   3     1       0  \n",
       "7       1   1     3       0  \n",
       "8       2   0     3       0  \n",
       "9       1   2     2       0  \n",
       "10      1   0     2       1  \n",
       "11      1   0     3       0  \n",
       "12      2   0     2       1  \n",
       "13      1   3     3       0  \n",
       "14      1   0     0       0  \n",
       "15      2   0     2       1  \n",
       "16      2   1     2       1  \n",
       "17      1   1     3       0  \n",
       "18      2   0     2       1  \n",
       "19      2   0     2       1  "
      ]
     },
     "execution_count": 2,
     "metadata": {},
     "output_type": "execute_result"
    }
   ],
   "source": [
    "# Load/ Read the data-set\n",
    "diseases = pd.read_csv('heart_disease.csv')\n",
    "diseases.head(20) # Displays the first 20 values"
   ]
  },
  {
   "cell_type": "code",
   "execution_count": 3,
   "id": "8b3f6f15",
   "metadata": {},
   "outputs": [
    {
     "name": "stdout",
     "output_type": "stream",
     "text": [
      "Dimensions of heart diseases: (1025, 14)\n"
     ]
    }
   ],
   "source": [
    "\"\"\"__summary\n",
    "cp = chest pain\n",
    "trestbp= resting blood pressure\n",
    "chol = cholesterol\n",
    "fbs=fasting blood sugar\n",
    "restecg=resting elctrocardiography\n",
    "exang = exercise induced again\n",
    "oldpeak= ST depression induced\n",
    "slope = the slope of peak exercise\n",
    "ca = number of major vessel\n",
    "thal = normal, texted defect, reversible defect\n",
    "target = have disease or not (1=yes, 0=no)\n",
    "\"\"\"\n",
    "#Displays the data points and features in the dataset\n",
    "print(\"Dimensions of heart diseases: {}\".format(diseases.shape))"
   ]
  },
  {
   "cell_type": "code",
   "execution_count": 4,
   "id": "a165528e",
   "metadata": {},
   "outputs": [
    {
     "data": {
      "text/plain": [
       "1    526\n",
       "0    499\n",
       "Name: target, dtype: int64"
      ]
     },
     "execution_count": 4,
     "metadata": {},
     "output_type": "execute_result"
    }
   ],
   "source": [
    "# Target Value counts\n",
    "# Number of people with heart disease\n",
    "# Column for target\n",
    "diseases.target.value_counts()"
   ]
  },
  {
   "cell_type": "code",
   "execution_count": 5,
   "id": "ca045383",
   "metadata": {},
   "outputs": [
    {
     "name": "stdout",
     "output_type": "stream",
     "text": [
      "<class 'pandas.core.frame.DataFrame'>\n",
      "RangeIndex: 1025 entries, 0 to 1024\n",
      "Data columns (total 14 columns):\n",
      " #   Column    Non-Null Count  Dtype  \n",
      "---  ------    --------------  -----  \n",
      " 0   age       1025 non-null   int64  \n",
      " 1   sex       1025 non-null   int64  \n",
      " 2   cp        1025 non-null   int64  \n",
      " 3   trestbps  1025 non-null   int64  \n",
      " 4   chol      1025 non-null   int64  \n",
      " 5   fbs       1025 non-null   int64  \n",
      " 6   restecg   1025 non-null   int64  \n",
      " 7   thalach   1025 non-null   int64  \n",
      " 8   exang     1025 non-null   int64  \n",
      " 9   oldpeak   1025 non-null   float64\n",
      " 10  slope     1025 non-null   int64  \n",
      " 11  ca        1025 non-null   int64  \n",
      " 12  thal      1025 non-null   int64  \n",
      " 13  target    1025 non-null   int64  \n",
      "dtypes: float64(1), int64(13)\n",
      "memory usage: 112.2 KB\n"
     ]
    }
   ],
   "source": [
    "diseases.info()"
   ]
  },
  {
   "cell_type": "code",
   "execution_count": 6,
   "id": "ab8aeb54",
   "metadata": {},
   "outputs": [
    {
     "name": "stdout",
     "output_type": "stream",
     "text": [
      "Percentage of female Patients: 30.44%\n",
      "Percentage of male Patients: 69.56%\n"
     ]
    }
   ],
   "source": [
    "# Show percentage of male and female of those with heart disease\n",
    "count_female = len(diseases[diseases.sex == 0])\n",
    "count_male = len(diseases[diseases.sex == 1])\n",
    "\n",
    "#Show the output\n",
    "print('Percentage of female Patients: {:.2f}%'.format(count_female/len(diseases.sex)*100))\n",
    "print('Percentage of male Patients: {:.2f}%'.format(count_male/len(diseases.sex)*100))"
   ]
  },
  {
   "cell_type": "code",
   "execution_count": 7,
   "id": "100097b1",
   "metadata": {},
   "outputs": [
    {
     "data": {
      "text/html": [
       "<div>\n",
       "<style scoped>\n",
       "    .dataframe tbody tr th:only-of-type {\n",
       "        vertical-align: middle;\n",
       "    }\n",
       "\n",
       "    .dataframe tbody tr th {\n",
       "        vertical-align: top;\n",
       "    }\n",
       "\n",
       "    .dataframe thead th {\n",
       "        text-align: right;\n",
       "    }\n",
       "</style>\n",
       "<table border=\"1\" class=\"dataframe\">\n",
       "  <thead>\n",
       "    <tr style=\"text-align: right;\">\n",
       "      <th></th>\n",
       "      <th>age</th>\n",
       "      <th>sex</th>\n",
       "      <th>cp</th>\n",
       "      <th>trestbps</th>\n",
       "      <th>chol</th>\n",
       "      <th>fbs</th>\n",
       "      <th>restecg</th>\n",
       "      <th>thalach</th>\n",
       "      <th>exang</th>\n",
       "      <th>oldpeak</th>\n",
       "      <th>slope</th>\n",
       "      <th>ca</th>\n",
       "      <th>thal</th>\n",
       "    </tr>\n",
       "    <tr>\n",
       "      <th>target</th>\n",
       "      <th></th>\n",
       "      <th></th>\n",
       "      <th></th>\n",
       "      <th></th>\n",
       "      <th></th>\n",
       "      <th></th>\n",
       "      <th></th>\n",
       "      <th></th>\n",
       "      <th></th>\n",
       "      <th></th>\n",
       "      <th></th>\n",
       "      <th></th>\n",
       "      <th></th>\n",
       "    </tr>\n",
       "  </thead>\n",
       "  <tbody>\n",
       "    <tr>\n",
       "      <th>0</th>\n",
       "      <td>56.569138</td>\n",
       "      <td>0.827655</td>\n",
       "      <td>0.482966</td>\n",
       "      <td>134.106212</td>\n",
       "      <td>251.292585</td>\n",
       "      <td>0.164329</td>\n",
       "      <td>0.456914</td>\n",
       "      <td>139.130261</td>\n",
       "      <td>0.549098</td>\n",
       "      <td>1.600200</td>\n",
       "      <td>1.166333</td>\n",
       "      <td>1.158317</td>\n",
       "      <td>2.539078</td>\n",
       "    </tr>\n",
       "    <tr>\n",
       "      <th>1</th>\n",
       "      <td>52.408745</td>\n",
       "      <td>0.570342</td>\n",
       "      <td>1.378327</td>\n",
       "      <td>129.245247</td>\n",
       "      <td>240.979087</td>\n",
       "      <td>0.134981</td>\n",
       "      <td>0.598859</td>\n",
       "      <td>158.585551</td>\n",
       "      <td>0.134981</td>\n",
       "      <td>0.569962</td>\n",
       "      <td>1.593156</td>\n",
       "      <td>0.370722</td>\n",
       "      <td>2.119772</td>\n",
       "    </tr>\n",
       "  </tbody>\n",
       "</table>\n",
       "</div>"
      ],
      "text/plain": [
       "              age       sex        cp    trestbps        chol       fbs  \\\n",
       "target                                                                    \n",
       "0       56.569138  0.827655  0.482966  134.106212  251.292585  0.164329   \n",
       "1       52.408745  0.570342  1.378327  129.245247  240.979087  0.134981   \n",
       "\n",
       "         restecg     thalach     exang   oldpeak     slope        ca      thal  \n",
       "target                                                                          \n",
       "0       0.456914  139.130261  0.549098  1.600200  1.166333  1.158317  2.539078  \n",
       "1       0.598859  158.585551  0.134981  0.569962  1.593156  0.370722  2.119772  "
      ]
     },
     "execution_count": 7,
     "metadata": {},
     "output_type": "execute_result"
    }
   ],
   "source": [
    "# Show the mean \n",
    "diseases.groupby('target').mean()"
   ]
  },
  {
   "cell_type": "code",
   "execution_count": 8,
   "id": "deef3fd4",
   "metadata": {},
   "outputs": [
    {
     "data": {
      "text/plain": [
       "((768, 13), (257, 13))"
      ]
     },
     "execution_count": 8,
     "metadata": {},
     "output_type": "execute_result"
    }
   ],
   "source": [
    "from sklearn.model_selection import train_test_split\n",
    "\n",
    "# ML for Training and Testing the dataset\n",
    "# Creating the testing and training sets\n",
    "y = diseases.target.values # For making the other variables dependent\n",
    "x_data = diseases.drop(['target'], axis=1) # Make 'target' variable only independent variable\n",
    "# Split the data for training=79 and testing=21\n",
    "X_train, X_test, y_train, y_test = train_test_split(diseases.loc[:, diseases.columns !='target'],diseases['target'], random_state=66)\n",
    "# Check shape of the data remaining after splitting into training and testing\n",
    "X_train.shape, X_test.shape"
   ]
  },
  {
   "cell_type": "code",
   "execution_count": 9,
   "id": "a9cf4585",
   "metadata": {},
   "outputs": [
    {
     "data": {
      "image/png": "[encoded data removed]",
      "text/plain": [
       "<Figure size 640x480 with 1 Axes>"
      ]
     },
     "metadata": {},
     "output_type": "display_data"
    }
   ],
   "source": [
    "#Using the k-Nearest Neighbor Regression\n",
    "from sklearn.neighbors import KNeighborsRegressor\n",
    "\n",
    "training_score=[]\n",
    "test_score=[]\n",
    "#trying n_neighbors from 1 to 10\n",
    "neighbors_settings= range(1, 11)\n",
    "\n",
    "for n_neighbors in neighbors_settings:\n",
    "    #model building\n",
    "    \n",
    "    knn=KNeighborsRegressor(n_neighbors=n_neighbors)\n",
    "    knn.fit(X_train, y_train)\n",
    "    \n",
    "    #recording the training set score\n",
    "    \n",
    "    training_score.append(knn.score(X_train, y_train))\n",
    "    \n",
    "    #recording test set score\n",
    "    \n",
    "    test_score.append(knn.score(X_test, y_test))\n",
    "    \n",
    "#plot for comparison of results in test and train scores\n",
    "plt.plot(neighbors_settings, training_score, label=\"training score\")\n",
    "plt.plot(neighbors_settings, test_score, label=\"test score\")\n",
    "plt.xlabel(\"n_neighbors\")\n",
    "plt.ylabel(\"R^2\")\n",
    "\n",
    "# add legend\n",
    "plt.legend()\n",
    "plt.savefig('knn_compare_model')\n",
    "from sklearn.neighbors import KNeighborsRegressor\n"
   ]
  },
  {
   "cell_type": "code",
   "execution_count": 10,
   "id": "9ecce757",
   "metadata": {},
   "outputs": [
    {
     "name": "stdout",
     "output_type": "stream",
     "text": [
      "R^2 of kNN Regressor on training set: 0.416\n",
      "R^2 of kNN Regressor on test set: 0.220\n"
     ]
    }
   ],
   "source": [
    "from sklearn.neighbors import KNeighborsRegressor\n",
    "\n",
    "#kNN Model accuracy\n",
    "knn= KNeighborsRegressor(n_neighbors=10)\n",
    "knn.fit(X_train, y_train)\n",
    "k1=knn.score(X_train, y_train)\n",
    "k2=knn.score(X_test, y_test)\n",
    "print(\"R^2 of kNN Regressor on training set: {:.3f}\".format(k1))\n",
    "print(\"R^2 of kNN Regressor on test set: {:.3f}\".format(k2))"
   ]
  },
  {
   "cell_type": "code",
   "execution_count": 11,
   "id": "090857c9",
   "metadata": {},
   "outputs": [
    {
     "name": "stdout",
     "output_type": "stream",
     "text": [
      "R^2 of Decision Tree Regressor on training set: 1.000\n",
      "R^2 of Decision Tree Regressor on test set: 0.953\n"
     ]
    }
   ],
   "source": [
    "#Using the decision tree regressor\n",
    "diseases_features=[x for i, x in enumerate(diseases.columns) if i !=13]\n",
    "\n",
    "from sklearn.tree import DecisionTreeRegressor\n",
    "\n",
    "tree= DecisionTreeRegressor(random_state=0)\n",
    "tree.fit(X_train, y_train)\n",
    "t_1= tree.score(X_train, y_train)\n",
    "t_2= tree.score(X_test, y_test)\n",
    "print(\"R^2 of Decision Tree Regressor on training set: {:.3f}\".format(t_1))\n",
    "print(\"R^2 of Decision Tree Regressor on test set: {:.3f}\".format(t_2))\n",
    "#Results obtained due to overfitting and poor generalization to new data"
   ]
  },
  {
   "cell_type": "code",
   "execution_count": 12,
   "id": "53c64b48",
   "metadata": {},
   "outputs": [
    {
     "name": "stdout",
     "output_type": "stream",
     "text": [
      "R^2 of Decision Tree Regressor on training set: 0.973\n",
      "R^2 of Decision Tree Regressor on test set: 0.983\n"
     ]
    }
   ],
   "source": [
    "#Decision tree regressor after applying pre-pruning and setting a traversal depth limit \n",
    "\n",
    "tree_1= DecisionTreeRegressor(max_depth=8, random_state=1)\n",
    "tree_1.fit(X_train, y_train)\n",
    "t_3= tree_1.score(X_train, y_train)\n",
    "t_4= tree_1.score(X_test, y_test)\n",
    "print(\"R^2 of Decision Tree Regressor on training set: {:.3f}\".format(t_3))\n",
    "print(\"R^2 of Decision Tree Regressor on test set: {:.3f}\".format(t_4))\n"
   ]
  },
  {
   "cell_type": "code",
   "execution_count": 13,
   "id": "119c3f5e",
   "metadata": {},
   "outputs": [
    {
     "name": "stdout",
     "output_type": "stream",
     "text": [
      "Feature importance: \n",
      "[0.05124149 0.02738473 0.31972904 0.05623195 0.10872478 0.\n",
      " 0.02275477 0.0630141  0.02174844 0.07663028 0.03284641 0.09190581\n",
      " 0.12778819]\n"
     ]
    }
   ],
   "source": [
    "#Decision tree regressor feature importance\n",
    "print(\"Feature importance: \\n{}\".format(tree_1.feature_importances_))"
   ]
  },
  {
   "cell_type": "code",
   "execution_count": 14,
   "id": "c8c49efb",
   "metadata": {},
   "outputs": [
    {
     "name": "stdout",
     "output_type": "stream",
     "text": [
      "R^2 of Random Forest Regressor on training set: 0.993\n",
      "R^2 of Random Forest Regressor on test set: 0.963\n"
     ]
    }
   ],
   "source": [
    "#Random Forest Regressor\n",
    "\n",
    "from sklearn.ensemble import RandomForestRegressor\n",
    "\n",
    "rf= RandomForestRegressor(n_estimators=100, random_state=1)#Random Forest Regressor of 100 trees\n",
    "rf.fit(X_train, y_train)\n",
    "r_1= rf.score(X_train, y_train)\n",
    "r_2= rf.score(X_test, y_test)\n",
    "print(\"R^2 of Random Forest Regressor on training set: {:.3f}\".format(r_1))\n",
    "print(\"R^2 of Random Forest Regressor on test set: {:.3f}\".format(r_2))"
   ]
  },
  {
   "cell_type": "code",
   "execution_count": 15,
   "id": "87ad6109",
   "metadata": {},
   "outputs": [
    {
     "name": "stdout",
     "output_type": "stream",
     "text": [
      "R^2 of Random Forest Regressor on training set after pre-pruning: 0.971\n",
      "R^2 of Random Forest Regressor on test set after pre-pruning: 0.926\n"
     ]
    }
   ],
   "source": [
    "#Random Forest Regressor pre-pruning by increasing the max_depth\n",
    "\n",
    "rf_1= RandomForestRegressor(max_depth= 7, n_estimators=100, random_state=42)#Random Forest Regressor of 100 trees with a maximum depth of 7\n",
    "rf_1.fit(X_train, y_train)\n",
    "r_3= rf_1.score(X_train, y_train)\n",
    "r_4= rf_1.score(X_test, y_test)\n",
    "print(\"R^2 of Random Forest Regressor on training set after pre-pruning: {:.3f}\".format(r_3))\n",
    "print(\"R^2 of Random Forest Regressor on test set after pre-pruning: {:.3f}\".format(r_4))"
   ]
  },
  {
   "cell_type": "code",
   "execution_count": 16,
   "id": "4f3133c6",
   "metadata": {},
   "outputs": [
    {
     "name": "stdout",
     "output_type": "stream",
     "text": [
      "Feature importance: \n",
      "[0.07996491 0.03118698 0.3073811  0.05777433 0.07923892 0.00445618\n",
      " 0.01204279 0.08153577 0.01820674 0.09620885 0.02386177 0.1027328\n",
      " 0.10540886]\n"
     ]
    }
   ],
   "source": [
    "#Random Forest Regressor feature importance\n",
    "print(\"Feature importance: \\n{}\".format(rf_1.feature_importances_))"
   ]
  },
  {
   "cell_type": "code",
   "execution_count": 17,
   "id": "afde7aee",
   "metadata": {},
   "outputs": [
    {
     "name": "stdout",
     "output_type": "stream",
     "text": [
      "R^2 of Support Vector Machine on training set: 0.194\n",
      "R^2 of Support Vector Machine on test set: 0.195\n"
     ]
    }
   ],
   "source": [
    "#Support Vector Regressor or Machine before rescaling the features\n",
    "\n",
    "from sklearn.svm import SVR\n",
    "\n",
    "svr= SVR()\n",
    "svr.fit(X_train, y_train)\n",
    "s_1= svr.score(X_train, y_train)\n",
    "s_2= svr.score(X_test, y_test)\n",
    "print(\"R^2 of Support Vector Machine on training set: {:.3f}\".format(s_1))\n",
    "print(\"R^2 of Support Vector Machine on test set: {:.3f}\".format(s_2))"
   ]
  },
  {
   "cell_type": "code",
   "execution_count": 18,
   "id": "60d38d32",
   "metadata": {},
   "outputs": [
    {
     "name": "stdout",
     "output_type": "stream",
     "text": [
      "R^2 of Support Vector Machine on training set: 0.785\n",
      "R^2 of Support Vector Machine on test set: 0.718\n"
     ]
    }
   ],
   "source": [
    "from sklearn.preprocessing import MinMaxScaler\n",
    "\n",
    "scaler= MinMaxScaler()#scaling the train and test sets using the minmax scaler\n",
    "X_train_scaled=scaler.fit_transform(X_train)\n",
    "X_test_scaled=scaler.fit_transform(X_test)\n",
    "\n",
    "svr_1= SVR()\n",
    "svr_1.fit(X_train_scaled, y_train)\n",
    "s3= svr_1.score(X_train_scaled, y_train)\n",
    "s4= svr_1.score(X_test_scaled, y_test)\n",
    "print(\"R^2 of Support Vector Machine on training set: {:.3f}\".format(s3))\n",
    "print(\"R^2 of Support Vector Machine on test set: {:.3f}\".format(s4))"
   ]
  },
  {
   "cell_type": "code",
   "execution_count": 19,
   "id": "276e3d7d",
   "metadata": {},
   "outputs": [
    {
     "name": "stdout",
     "output_type": "stream",
     "text": [
      "R^2 of Support Vector Machine on training set: 0.961\n",
      "R^2 of Support Vector Machine on test set: 0.784\n"
     ]
    }
   ],
   "source": [
    "#Using gamma to fit model\n",
    "svr_2= SVR(gamma=10)\n",
    "svr_2.fit(X_train_scaled, y_train)\n",
    "s5= svr_2.score(X_train_scaled, y_train)\n",
    "s6= svr_2.score(X_test_scaled, y_test)\n",
    "print(\"R^2 of Support Vector Machine on training set: {:.3f}\".format(s5))\n",
    "print(\"R^2 of Support Vector Machine on test set: {:.3f}\".format(s6))"
   ]
  },
  {
   "cell_type": "code",
   "execution_count": 20,
   "id": "b8022893",
   "metadata": {},
   "outputs": [
    {
     "name": "stdout",
     "output_type": "stream",
     "text": [
      "R^2 of logistic regression  on training set: 0.872\n",
      "R^2 of logistic regression  on test set: 0.837\n"
     ]
    },
    {
     "name": "stderr",
     "output_type": "stream",
     "text": [
      "C:\\Users\\DRAGO\\dragoconda\\lib\\site-packages\\sklearn\\linear_model\\_logistic.py:458: ConvergenceWarning: lbfgs failed to converge (status=1):\n",
      "STOP: TOTAL NO. of ITERATIONS REACHED LIMIT.\n",
      "\n",
      "Increase the number of iterations (max_iter) or scale the data as shown in:\n",
      "    https://scikit-learn.org/stable/modules/preprocessing.html\n",
      "Please also refer to the documentation for alternative solver options:\n",
      "    https://scikit-learn.org/stable/modules/linear_model.html#logistic-regression\n",
      "  n_iter_i = _check_optimize_result(\n"
     ]
    }
   ],
   "source": [
    "#Using logistic regression \n",
    "from sklearn.linear_model import LogisticRegression\n",
    "\n",
    "log_reg= LogisticRegression(random_state=0)\n",
    "log_reg.fit(X_train, y_train)\n",
    "log1=log_reg.score(X_train, y_train)\n",
    "log2=log_reg.score(X_test, y_test)\n",
    "print(\"R^2 of logistic regression  on training set: {:.3f}\".format(log1))\n",
    "print(\"R^2 of logistic regression  on test set: {:.3f}\".format(log2))"
   ]
  },
  {
   "cell_type": "code",
   "execution_count": 21,
   "id": "1f9447ca",
   "metadata": {},
   "outputs": [
    {
     "name": "stdout",
     "output_type": "stream",
     "text": [
      "R^2 of Naive Bayes  on training set: 0.823\n",
      "R^2 of Naive Bayes  on test set: 0.840\n"
     ]
    }
   ],
   "source": [
    "#Using Naive Bayes\n",
    "\n",
    "from sklearn.naive_bayes import GaussianNB\n",
    "\n",
    "GNB= GaussianNB()\n",
    "GNB.fit(X_train, y_train)\n",
    "g1=GNB.score(X_train, y_train)\n",
    "g2=GNB.score(X_test, y_test)\n",
    "print(\"R^2 of Naive Bayes  on training set: {:.3f}\".format(g1))\n",
    "print(\"R^2 of Naive Bayes  on test set: {:.3f}\".format(g2))"
   ]
  },
  {
   "cell_type": "code",
   "execution_count": 22,
   "id": "8322b585",
   "metadata": {},
   "outputs": [
    {
     "data": {
      "text/html": [
       "<div>\n",
       "<style scoped>\n",
       "    .dataframe tbody tr th:only-of-type {\n",
       "        vertical-align: middle;\n",
       "    }\n",
       "\n",
       "    .dataframe tbody tr th {\n",
       "        vertical-align: top;\n",
       "    }\n",
       "\n",
       "    .dataframe thead th {\n",
       "        text-align: right;\n",
       "    }\n",
       "</style>\n",
       "<table border=\"1\" class=\"dataframe\">\n",
       "  <thead>\n",
       "    <tr style=\"text-align: right;\">\n",
       "      <th></th>\n",
       "      <th>Algorithms</th>\n",
       "      <th>Test Scores</th>\n",
       "    </tr>\n",
       "  </thead>\n",
       "  <tbody>\n",
       "    <tr>\n",
       "      <th>1</th>\n",
       "      <td>Decison Tree Regressor</td>\n",
       "      <td>0.983407</td>\n",
       "    </tr>\n",
       "    <tr>\n",
       "      <th>2</th>\n",
       "      <td>Random Forest Regressor</td>\n",
       "      <td>0.963009</td>\n",
       "    </tr>\n",
       "    <tr>\n",
       "      <th>5</th>\n",
       "      <td>Naive Bayes</td>\n",
       "      <td>0.840467</td>\n",
       "    </tr>\n",
       "    <tr>\n",
       "      <th>4</th>\n",
       "      <td>Logistic Regression</td>\n",
       "      <td>0.836576</td>\n",
       "    </tr>\n",
       "    <tr>\n",
       "      <th>3</th>\n",
       "      <td>Support Vector Machine</td>\n",
       "      <td>0.784241</td>\n",
       "    </tr>\n",
       "    <tr>\n",
       "      <th>0</th>\n",
       "      <td>KNN</td>\n",
       "      <td>0.219598</td>\n",
       "    </tr>\n",
       "  </tbody>\n",
       "</table>\n",
       "</div>"
      ],
      "text/plain": [
       "                Algorithms  Test Scores\n",
       "1   Decison Tree Regressor     0.983407\n",
       "2  Random Forest Regressor     0.963009\n",
       "5              Naive Bayes     0.840467\n",
       "4      Logistic Regression     0.836576\n",
       "3   Support Vector Machine     0.784241\n",
       "0                      KNN     0.219598"
      ]
     },
     "execution_count": 22,
     "metadata": {},
     "output_type": "execute_result"
    }
   ],
   "source": [
    "#Model evaluation\n",
    "models=['KNN', 'Decison Tree Regressor', 'Random Forest Regressor', 'Support Vector Machine', \n",
    "        'Logistic Regression', 'Naive Bayes']\n",
    "\n",
    "test_scores=[k2, t_4, r_2, s6, log2, g2]\n",
    "\n",
    "compare_models=pd.DataFrame({\n",
    "    \"Algorithms\": models, \"Test Scores\": test_scores\n",
    "    })\n",
    "\n",
    "compare_models.sort_values(by=\"Test Scores\", ascending=False)"
   ]
  },
  {
   "cell_type": "code",
   "execution_count": 23,
   "id": "a33219a3",
   "metadata": {},
   "outputs": [
    {
     "data": {
      "image/png": "[encoded data removed]",
      "text/plain": [
       "<Figure size 700x800 with 1 Axes>"
      ]
     },
     "metadata": {},
     "output_type": "display_data"
    }
   ],
   "source": [
    "#Comparing the various model performances\n",
    "import matplotlib.pyplot as plt\n",
    "%matplotlib inline\n",
    "plt.figure(figsize=(7,8))\n",
    "sb.barplot(x=\"Test Scores\", y=\"Algorithms\", data=compare_models)\n",
    "plt.show()"
   ]
  },
  {
   "cell_type": "code",
   "execution_count": null,
   "id": "389308d3",
   "metadata": {},
   "outputs": [],
   "source": []
  }
 ],
 "metadata": {
  "kernelspec": {
   "display_name": "Python 3 (ipykernel)",
   "language": "python",
   "name": "python3"
  },
  "language_info": {
   "codemirror_mode": {
    "name": "ipython",
    "version": 3
   },
   "file_extension": ".py",
   "mimetype": "text/x-python",
   "name": "python",
   "nbconvert_exporter": "python",
   "pygments_lexer": "ipython3",
   "version": "3.10.9"
  }
 },
 "nbformat": 4,
 "nbformat_minor": 5
}
