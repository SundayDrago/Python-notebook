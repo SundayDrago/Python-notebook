{
 "cells": [
  {
   "cell_type": "markdown",
   "id": "34864bbc",
   "metadata": {},
   "source": [
    "# Livingstone\n",
    "-Linear Regression <br>\n",
    "-Polynomial Regression<br>\n",
    "-Multiple Regression<br>\n",
    "-Scale\n",
    "\n",
    "# Jeff\n",
    "Train/Test<br>\n",
    "Logistic Regression<br>\n",
    "Decision Tree<br>\n",
    "Confusion matrix<br>\n",
    "Hierarchical Clustering<br>\n",
    "Categorical data<br>\n",
    "k-means<br>\n",
    "Cross-Validate<br>"
   ]
  },
  {
   "cell_type": "markdown",
   "id": "adb18e8d",
   "metadata": {},
   "source": [
    "# Machine Learning\n",
    "1.Test/Train\n",
    "\n",
    "__Summary__\n",
    "\n",
    "Training Data\n",
    "independent variable and dependent variable<br>\n",
    "-train_x, test_x, train_y, test_y<br>\n",
    "x_train, x_test, y_train, y_test<br>\n",
    "\n",
    "2.Splitting data<br>\n",
    "Divide the data into  two subsets<br>\n",
    "-> large portion for training ie train=80%, test=30%<br>\n",
    "->Evaulate the performance accuracy 100% ! 99.87% Accuracy<br>\n",
    "\n",
    "3.Model Testing\n",
    "Be specific with training algorithm(linear regression)\n",
    "\n",
    "Model evaluation\n",
    "Evaluation metrics, accuracy, precision, recall, F1-score, mean squared error<br>\n",
    "Give insight about the performance"
   ]
  },
  {
   "cell_type": "code",
   "execution_count": 1,
   "id": "66190e3c",
   "metadata": {},
   "outputs": [],
   "source": [
    "# Import ML libraries\n",
    "# from sklearn.model_selection import train_test_split # Used to split the data into training and testing\n",
    "# from sklearn.linear_model import LogisticRegression # For Analyzing categorical problems\n",
    "# from sklearn.metrics import accuracy # Used to measure level of accuracy for the model\n",
    "\n",
    "# # Spliting the data\n",
    "# X_train, X_test, y_train, y_test = train_test_split(X,y, test_size=0.3, random_state=0)\n",
    "\n",
    "# # Model train\n",
    "# model = LogisticRegression()\n",
    "# model.fit(X_train, y_train)\n",
    "\n",
    "# # Model Evaluation\n"
   ]
  },
  {
   "cell_type": "markdown",
   "id": "bcc2bde0",
   "metadata": {},
   "source": [
    "# Decision Trees\n",
    "- Uses classification and regression<br>\n",
    "\n",
    "__Pros__ <br>\n",
    "-> Easy to understand<br>\n",
    "-> Ean handle both regression and classification<br>\n",
    "-> Captures non-linear values or outliers<br>\n",
    "-> Ean handdle missing values or outliers<br>\n",
    "\n",
    "__Cons__\n"
   ]
  },
  {
   "cell_type": "code",
   "execution_count": null,
   "id": "b0a882ba",
   "metadata": {},
   "outputs": [],
   "source": [
    "# Data science -\n",
    "# Machine learning -\n",
    "# web development -"
   ]
  },
  {
   "cell_type": "code",
   "execution_count": null,
   "id": "e109dc13",
   "metadata": {},
   "outputs": [],
   "source": []
  }
 ],
 "metadata": {
  "kernelspec": {
   "display_name": "Python 3 (ipykernel)",
   "language": "python",
   "name": "python3"
  },
  "language_info": {
   "codemirror_mode": {
    "name": "ipython",
    "version": 3
   },
   "file_extension": ".py",
   "mimetype": "text/x-python",
   "name": "python",
   "nbconvert_exporter": "python",
   "pygments_lexer": "ipython3",
   "version": "3.10.9"
  }
 },
 "nbformat": 4,
 "nbformat_minor": 5
}
