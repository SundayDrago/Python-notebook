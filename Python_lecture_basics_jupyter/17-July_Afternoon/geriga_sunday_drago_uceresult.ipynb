{
 "cells": [
  {
   "cell_type": "code",
   "execution_count": null,
   "id": "1d8eb6fd",
   "metadata": {},
   "outputs": [],
   "source": [
    "# Geriga Sunday Drago\n",
    "import pandas as pd\n",
    "import matplotlib.pyplot as plt\n",
    "import seaborn as sns"
   ]
  },
  {
   "cell_type": "code",
   "execution_count": null,
   "id": "a85e479b",
   "metadata": {},
   "outputs": [],
   "source": [
    "# Loading the uce result dataset\n",
    "df = pd.read_csv('uceresult.csv')\n",
    "df"
   ]
  },
  {
   "cell_type": "code",
   "execution_count": null,
   "id": "1e2f787b",
   "metadata": {},
   "outputs": [],
   "source": [
    "# Dataset before cleaning\n",
    "df.head(20)"
   ]
  },
  {
   "cell_type": "code",
   "execution_count": null,
   "id": "0296c828",
   "metadata": {},
   "outputs": [],
   "source": [
    "# Check the shape\n",
    "df.shape"
   ]
  },
  {
   "cell_type": "code",
   "execution_count": null,
   "id": "0bffe654",
   "metadata": {},
   "outputs": [],
   "source": [
    "# Preparation and Preprocessing or data cleaning\n",
    "df.columns\n"
   ]
  },
  {
   "cell_type": "code",
   "execution_count": null,
   "id": "3c6c009e",
   "metadata": {},
   "outputs": [],
   "source": [
    "# During preparation, there has been whitespaces before and after. Therefore the major objective was to remove them"
   ]
  },
  {
   "cell_type": "code",
   "execution_count": null,
   "id": "d29bb7f0",
   "metadata": {},
   "outputs": [],
   "source": [
    "# Removing white_spaces\n",
    "df.columns = df.columns.to_series().apply(lambda x: x.strip())\n",
    "df.columns"
   ]
  },
  {
   "cell_type": "code",
   "execution_count": null,
   "id": "76109325",
   "metadata": {},
   "outputs": [],
   "source": [
    "# Replace column names with underscore\n",
    "df.columns = df.columns.str.replace(' ','_')\n",
    "df.columns"
   ]
  },
  {
   "cell_type": "code",
   "execution_count": null,
   "id": "a8f482e6",
   "metadata": {},
   "outputs": [],
   "source": [
    "# Check for basic information about the dataset\n",
    "df.info()"
   ]
  },
  {
   "cell_type": "code",
   "execution_count": null,
   "id": "ad0df882",
   "metadata": {},
   "outputs": [],
   "source": [
    "# Check for duplicates values \n",
    "for isduplicate in df.duplicated().array:\n",
    "    \n",
    "    if isduplicate:\n",
    "        print(\"Duplicates found and dropped!\")\n",
    "        df.drop_duplicate(inplace=True)\n",
    "        \n",
    "        break\n",
    "        \n",
    "    else:\n",
    "        pass\n",
    "    \n",
    "print(\"No duplicates found\")\n",
    "df[df.duplicated()==True]"
   ]
  },
  {
   "cell_type": "code",
   "execution_count": null,
   "id": "624fbc0b",
   "metadata": {},
   "outputs": [],
   "source": [
    "#  Check for null values\n",
    "df.isnull().sum().sort_values(ascending=False)"
   ]
  },
  {
   "cell_type": "code",
   "execution_count": null,
   "id": "5cced24f",
   "metadata": {},
   "outputs": [],
   "source": [
    "# Check for number of rows that are null\n",
    "null_rows = df[df.isna().any(axis=1)]\n",
    "before_computation = len(null_rows.axes[0])\n",
    "print(\"Number of rows that have null values: \"+str(before_computation))"
   ]
  },
  {
   "cell_type": "code",
   "execution_count": null,
   "id": "47415c86",
   "metadata": {},
   "outputs": [],
   "source": [
    "# Rows without school names\n",
    "df.dropna(thresh=None, subset=[\"SCHOOL\"], inplace=True)"
   ]
  },
  {
   "cell_type": "code",
   "execution_count": null,
   "id": "32f85c9a",
   "metadata": {},
   "outputs": [],
   "source": [
    "# Statistics for Data Science\n",
    "# Descriptive Statistic, Measures Central Tendancy(Mean, median, mode), Measures dispersion(Standard)\n",
    "# Inferential statistics-> covers the concept of making of predictions, identify variables and hypothesis\n",
    "#Modeling \n",
    "# ML\n",
    "#AI->(Regression, classification, cluster, anomaly edtection)\n",
    "\n",
    "# +256722359866\n",
    "\n",
    "# Python DATA CORRELATION\n",
    "# Use method corr() to calculate coefficients between all columns in dataframe\n",
    "#Strong positive 1 Strong negative correlation 1\n",
    "# Perfect correlation 1 Perfect Negative correlation 1\n",
    "# Good correlation 0.93455 Good correlation above 0.5\n",
    "\n",
    "df1 = pd.DataFrame({\n",
    "    'x': [1,2,3,4,5],\n",
    "    'y': [10,9,8,7,6],\n",
    "    'z': [11,12,13,14,15]\n",
    "})\n",
    "\n",
    "correlation = df1.corr()\n",
    "print(correlation)"
   ]
  },
  {
   "cell_type": "code",
   "execution_count": null,
   "id": "29fca4b1",
   "metadata": {},
   "outputs": [],
   "source": []
  }
 ],
 "metadata": {
  "kernelspec": {
   "display_name": "Python 3 (ipykernel)",
   "language": "python",
   "name": "python3"
  },
  "language_info": {
   "codemirror_mode": {
    "name": "ipython",
    "version": 3
   },
   "file_extension": ".py",
   "mimetype": "text/x-python",
   "name": "python",
   "nbconvert_exporter": "python",
   "pygments_lexer": "ipython3",
   "version": "3.10.9"
  }
 },
 "nbformat": 4,
 "nbformat_minor": 5
}
