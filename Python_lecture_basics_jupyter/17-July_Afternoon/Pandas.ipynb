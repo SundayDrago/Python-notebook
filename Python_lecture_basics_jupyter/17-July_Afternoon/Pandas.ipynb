{
 "cells": [
  {
   "cell_type": "code",
   "execution_count": 1,
   "id": "4ea38ac9",
   "metadata": {},
   "outputs": [
    {
     "name": "stdout",
     "output_type": "stream",
     "text": [
      "Empty DataFrame\n",
      "Columns: []\n",
      "Index: []\n"
     ]
    }
   ],
   "source": [
    "#Output an empty data frame\n",
    "import pandas as pd\n",
    "df = pd.DataFrame()\n",
    "print(df)"
   ]
  },
  {
   "cell_type": "code",
   "execution_count": 2,
   "id": "22fd8c67",
   "metadata": {},
   "outputs": [
    {
     "data": {
      "text/html": [
       "<div>\n",
       "<style scoped>\n",
       "    .dataframe tbody tr th:only-of-type {\n",
       "        vertical-align: middle;\n",
       "    }\n",
       "\n",
       "    .dataframe tbody tr th {\n",
       "        vertical-align: top;\n",
       "    }\n",
       "\n",
       "    .dataframe thead th {\n",
       "        text-align: right;\n",
       "    }\n",
       "</style>\n",
       "<table border=\"1\" class=\"dataframe\">\n",
       "  <thead>\n",
       "    <tr style=\"text-align: right;\">\n",
       "      <th></th>\n",
       "      <th>car</th>\n",
       "      <th>Year</th>\n",
       "      <th>Model</th>\n",
       "    </tr>\n",
       "  </thead>\n",
       "  <tbody>\n",
       "    <tr>\n",
       "      <th>0</th>\n",
       "      <td>Tesla</td>\n",
       "      <td>2019</td>\n",
       "      <td>China</td>\n",
       "    </tr>\n",
       "    <tr>\n",
       "      <th>1</th>\n",
       "      <td>Audi</td>\n",
       "      <td>2018</td>\n",
       "      <td>Japan</td>\n",
       "    </tr>\n",
       "    <tr>\n",
       "      <th>2</th>\n",
       "      <td>Jeep</td>\n",
       "      <td>2022</td>\n",
       "      <td>Korea</td>\n",
       "    </tr>\n",
       "  </tbody>\n",
       "</table>\n",
       "</div>"
      ],
      "text/plain": [
       "     car  Year  Model\n",
       "0  Tesla  2019  China\n",
       "1   Audi  2018  Japan\n",
       "2   Jeep  2022  Korea"
      ]
     },
     "execution_count": 2,
     "metadata": {},
     "output_type": "execute_result"
    }
   ],
   "source": [
    "data_set = {\n",
    "    \"car\": [\"Tesla\", \"Audi\", \"Jeep\"],\n",
    "    \"Year\": [2019, 2018, 2022],\n",
    "    \"Model\": [\"China\", \"Japan\", \"Korea\"]\n",
    "}\n",
    "df = pd.DataFrame(data_set)\n",
    "\n",
    "df\n"
   ]
  },
  {
   "cell_type": "code",
   "execution_count": 3,
   "id": "50143faf",
   "metadata": {},
   "outputs": [
    {
     "data": {
      "text/plain": [
       "0    Tesla\n",
       "1     Audi\n",
       "2     Jeep\n",
       "Name: car, dtype: object"
      ]
     },
     "execution_count": 3,
     "metadata": {},
     "output_type": "execute_result"
    }
   ],
   "source": [
    "df.car"
   ]
  },
  {
   "cell_type": "code",
   "execution_count": 4,
   "id": "4a44fbf5",
   "metadata": {},
   "outputs": [
    {
     "name": "stdout",
     "output_type": "stream",
     "text": [
      "car      Tesla\n",
      "Year      2019\n",
      "Model    China\n",
      "Name: 0, dtype: object\n"
     ]
    }
   ],
   "source": [
    "first_item = df.iloc[0]\n",
    "print(first_item)"
   ]
  },
  {
   "cell_type": "code",
   "execution_count": 5,
   "id": "c962d9cb",
   "metadata": {},
   "outputs": [
    {
     "data": {
      "text/plain": [
       "car        [Tesla, Audi, Jeep]\n",
       "Year        [2019, 2018, 2022]\n",
       "Model    [China, Japan, Korea]\n",
       "dtype: object"
      ]
     },
     "execution_count": 5,
     "metadata": {},
     "output_type": "execute_result"
    }
   ],
   "source": [
    "df = pd.Series(data_set)\n",
    "df"
   ]
  },
  {
   "cell_type": "code",
   "execution_count": 6,
   "id": "b66ca7b5",
   "metadata": {},
   "outputs": [
    {
     "name": "stdout",
     "output_type": "stream",
     "text": [
      "Monday       2023-07-03\n",
      "Tuesday      2023-07-04\n",
      "Wednesday    2023-07-05\n",
      "Thursday     2023-07-06\n",
      "Friday       2023-07-07\n",
      "dtype: object\n"
     ]
    }
   ],
   "source": [
    "data = {'Monday': '2023-07-03',\n",
    "        'Tuesday': '2023-07-04',\n",
    "        'Wednesday': '2023-07-05',\n",
    "        'Thursday': '2023-07-06',\n",
    "        'Friday': '2023-07-07'}\n",
    "\n",
    "# Create a Pandas Series from the dictionary\n",
    "series = pd.Series(data)\n",
    "\n",
    "# Print the Series\n",
    "print(series)"
   ]
  },
  {
   "cell_type": "code",
   "execution_count": 7,
   "id": "3c3b5ef1",
   "metadata": {},
   "outputs": [
    {
     "name": "stdout",
     "output_type": "stream",
     "text": [
      "Monday       2023/07/03\n",
      "Tuesday      2023/07/04\n",
      "Wednesday    2023/07/05\n",
      "Thursday     2023/07/06\n",
      "Friday       2023/07/07\n",
      "dtype: object\n"
     ]
    }
   ],
   "source": [
    "from datetime import datetime\n",
    "\n",
    "# Dictionary containing days and dates\n",
    "data = {'Monday': '2023-07-03',\n",
    "        'Tuesday': '2023-07-04',\n",
    "        'Wednesday': '2023-07-05',\n",
    "        'Thursday': '2023-07-06',\n",
    "        'Friday': '2023-07-07'}\n",
    "\n",
    "# Create a Pandas Series from the dictionary\n",
    "series = pd.Series(data)\n",
    "\n",
    "# Convert the dates to the desired format\n",
    "series = series.apply(lambda x: datetime.strptime(x, '%Y-%m-%d').strftime('%Y/%m/%d'))\n",
    "\n",
    "# Print the Series\n",
    "print(series)\n"
   ]
  },
  {
   "cell_type": "code",
   "execution_count": 8,
   "id": "0c532494",
   "metadata": {},
   "outputs": [
    {
     "name": "stdout",
     "output_type": "stream",
     "text": [
      "Monday     2023-07-03\n",
      "Tuesday    2023-07-04\n",
      "dtype: object\n"
     ]
    }
   ],
   "source": [
    "# Dictionary containing days and dates\n",
    "data = {'Monday': '2023-07-03',\n",
    "        'Tuesday': '2023-07-04',\n",
    "        'Wednesday': '2023-07-05',\n",
    "        'Thursday': '2023-07-06',\n",
    "        'Friday': '2023-07-07'}\n",
    "\n",
    "# Filter data for Monday and Tuesday\n",
    "filtered_data = {key: value for key, value in data.items() if key in ['Monday', 'Tuesday']}\n",
    "\n",
    "# Create a Pandas Series from the filtered data\n",
    "series = pd.Series(filtered_data)\n",
    "\n",
    "# Print the Series\n",
    "print(series)\n"
   ]
  },
  {
   "cell_type": "code",
   "execution_count": 9,
   "id": "5682ac6a",
   "metadata": {},
   "outputs": [
    {
     "name": "stdout",
     "output_type": "stream",
     "text": [
      "{'2023-07-04', '2023-07-03'}\n"
     ]
    }
   ],
   "source": [
    "serie = {data['Monday'], data['Tuesday']}\n",
    "print(serie)"
   ]
  },
  {
   "cell_type": "code",
   "execution_count": null,
   "id": "cddd17a4",
   "metadata": {},
   "outputs": [],
   "source": []
  },
  {
   "cell_type": "code",
   "execution_count": null,
   "id": "aa33043f",
   "metadata": {},
   "outputs": [],
   "source": []
  }
 ],
 "metadata": {
  "kernelspec": {
   "display_name": "Python 3 (ipykernel)",
   "language": "python",
   "name": "python3"
  },
  "language_info": {
   "codemirror_mode": {
    "name": "ipython",
    "version": 3
   },
   "file_extension": ".py",
   "mimetype": "text/x-python",
   "name": "python",
   "nbconvert_exporter": "python",
   "pygments_lexer": "ipython3",
   "version": "3.10.9"
  }
 },
 "nbformat": 4,
 "nbformat_minor": 5
}
